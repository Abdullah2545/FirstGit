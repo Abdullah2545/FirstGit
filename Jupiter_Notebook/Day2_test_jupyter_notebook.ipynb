{
 "cells": [
  {
   "cell_type": "markdown",
   "id": "853bc1b5",
   "metadata": {},
   "source": [
    "# Pyhton ka chila with baba amaar\n",
    "## How to use jupyter notebook"
   ]
  },
  {
   "cell_type": "markdown",
   "id": "b0d991cc",
   "metadata": {},
   "source": [
    "###  First_program "
   ]
  },
  {
   "cell_type": "code",
   "execution_count": 14,
   "id": "102fcb65",
   "metadata": {},
   "outputs": [
    {
     "name": "stdout",
     "output_type": "stream",
     "text": [
      "Hello world\n",
      "We are learning python with Aammar\n"
     ]
    }
   ],
   "source": [
    "print(\"Hello world\")\n",
    "print('We are learning python with Aammar')"
   ]
  },
  {
   "cell_type": "markdown",
   "id": "fe2e542d",
   "metadata": {},
   "source": [
    "###   Operators "
   ]
  },
  {
   "cell_type": "code",
   "execution_count": 1,
   "id": "82e82410",
   "metadata": {},
   "outputs": [],
   "source": [
    "a = 2+3"
   ]
  },
  {
   "cell_type": "code",
   "execution_count": 3,
   "id": "94363e82",
   "metadata": {},
   "outputs": [
    {
     "data": {
      "text/plain": [
       "5"
      ]
     },
     "execution_count": 3,
     "metadata": {},
     "output_type": "execute_result"
    }
   ],
   "source": [
    "a"
   ]
  },
  {
   "cell_type": "code",
   "execution_count": 5,
   "id": "10d05455",
   "metadata": {},
   "outputs": [
    {
     "name": "stdout",
     "output_type": "stream",
     "text": [
      "123\n",
      "6\n",
      "3\n",
      "3.0\n"
     ]
    }
   ],
   "source": [
    "print(\"123\")\n",
    "print(2*3)\n",
    "print(6//2)\n",
    "print(6/2)"
   ]
  },
  {
   "cell_type": "markdown",
   "id": "5c838734",
   "metadata": {},
   "source": [
    "### Strings "
   ]
  },
  {
   "cell_type": "code",
   "execution_count": 9,
   "id": "692ac484",
   "metadata": {},
   "outputs": [
    {
     "name": "stdout",
     "output_type": "stream",
     "text": [
      " what's up hello\n",
      "how are you?? \n"
     ]
    }
   ],
   "source": [
    "print(''' what's up hello\n",
    "how are you?? ''')"
   ]
  },
  {
   "cell_type": "code",
   "execution_count": 10,
   "id": "09d86ee9",
   "metadata": {
    "scrolled": true
   },
   "outputs": [
    {
     "name": "stdout",
     "output_type": "stream",
     "text": [
      "Learning pyhton\n"
     ]
    }
   ],
   "source": [
    "print('Learning pyhton')"
   ]
  },
  {
   "cell_type": "code",
   "execution_count": 15,
   "id": "b0dc5bae",
   "metadata": {},
   "outputs": [
    {
     "name": "stdout",
     "output_type": "stream",
     "text": [
      "what's up\n"
     ]
    }
   ],
   "source": [
    "print(\"what's up\")"
   ]
  },
  {
   "cell_type": "markdown",
   "id": "863bba69",
   "metadata": {},
   "source": [
    "### Comments "
   ]
  },
  {
   "cell_type": "code",
   "execution_count": 17,
   "id": "c9552b41",
   "metadata": {},
   "outputs": [],
   "source": [
    "# a=3\n",
    "#a"
   ]
  },
  {
   "cell_type": "code",
   "execution_count": 16,
   "id": "0a9bf048",
   "metadata": {},
   "outputs": [
    {
     "data": {
      "text/plain": [
       "3"
      ]
     },
     "execution_count": 16,
     "metadata": {},
     "output_type": "execute_result"
    }
   ],
   "source": [
    "a=3 \n",
    "a\n",
    "#use ctrl+/"
   ]
  },
  {
   "cell_type": "markdown",
   "id": "fc3c98e5",
   "metadata": {},
   "source": [
    "### Input_Function  "
   ]
  },
  {
   "cell_type": "code",
   "execution_count": 12,
   "id": "b0cfd7bf",
   "metadata": {},
   "outputs": [
    {
     "name": "stdout",
     "output_type": "stream",
     "text": [
      "What is your favourate fruit?Bananas\n",
      "Bananas\n"
     ]
    }
   ],
   "source": [
    "fruit_basket = input(\"What is your favourate fruit?\")\n",
    "print(fruit_basket)"
   ]
  },
  {
   "cell_type": "code",
   "execution_count": 13,
   "id": "91b9243e",
   "metadata": {},
   "outputs": [
    {
     "name": "stdout",
     "output_type": "stream",
     "text": [
      "What is your name?Abdullah\n",
      "What is you age?20\n",
      "hello Abdullah Your age is  20\n"
     ]
    }
   ],
   "source": [
    "name = input(\"What is your name?\")\n",
    "age = input(\"What is you age?\")\n",
    "print(\"hello\", name , \"Your age is \",age)"
   ]
  },
  {
   "cell_type": "markdown",
   "id": "d24a18b9",
   "metadata": {},
   "source": [
    "###   Logical_operators"
   ]
  },
  {
   "cell_type": "code",
   "execution_count": 19,
   "id": "0bd08ac9",
   "metadata": {},
   "outputs": [
    {
     "name": "stdout",
     "output_type": "stream",
     "text": [
      "False\n",
      "True\n",
      "True\n"
     ]
    }
   ],
   "source": [
    "print(4!=4)\n",
    "print(4==4)\n",
    "print(5>=4)"
   ]
  },
  {
   "cell_type": "markdown",
   "id": "2c7c4f20",
   "metadata": {},
   "source": [
    "### **Functions**"
   ]
  },
  {
   "cell_type": "code",
   "execution_count": 4,
   "id": "3081135a",
   "metadata": {},
   "outputs": [
    {
     "name": "stdout",
     "output_type": "stream",
     "text": [
      "60\n"
     ]
    }
   ],
   "source": [
    "def future_age(age,year):\n",
    "    new_age = age + year\n",
    "    return new_age\n",
    "print(future_age(20, 40))"
   ]
  },
  {
   "cell_type": "markdown",
   "id": "e7ee7575",
   "metadata": {},
   "source": [
    "### Conditions"
   ]
  },
  {
   "cell_type": "code",
   "execution_count": 20,
   "id": "cc6fbe6a",
   "metadata": {},
   "outputs": [
    {
     "name": "stdout",
     "output_type": "stream",
     "text": [
      "You are over age\n"
     ]
    }
   ],
   "source": [
    "r_age = 10\n",
    "age = 15\n",
    "if (age==r_age):\n",
    "    print(\"You are eligible\")\n",
    "elif (age>r_age):\n",
    "    print(\"You are over age\")\n",
    "else:\n",
    "    print('You are under age')"
   ]
  },
  {
   "cell_type": "markdown",
   "id": "696b95a2",
   "metadata": {},
   "source": [
    "### Loops"
   ]
  },
  {
   "cell_type": "code",
   "execution_count": 21,
   "id": "fafad2d5",
   "metadata": {},
   "outputs": [
    {
     "name": "stdout",
     "output_type": "stream",
     "text": [
      "0\n",
      "1\n",
      "2\n",
      "3\n",
      "4\n",
      "5\n"
     ]
    }
   ],
   "source": [
    "x=0\n",
    "while (x<=5):\n",
    "    print(x)\n",
    "    x+=1"
   ]
  },
  {
   "cell_type": "code",
   "execution_count": 22,
   "id": "1d101fa3",
   "metadata": {},
   "outputs": [
    {
     "name": "stdout",
     "output_type": "stream",
     "text": [
      "5\n",
      "6\n",
      "7\n",
      "8\n",
      "9\n"
     ]
    }
   ],
   "source": [
    "for x in range(5,10):\n",
    "    [print(x)]"
   ]
  },
  {
   "cell_type": "markdown",
   "id": "72b59af6",
   "metadata": {},
   "source": [
    "### Libraries"
   ]
  },
  {
   "cell_type": "code",
   "execution_count": 23,
   "id": "b72b902f",
   "metadata": {},
   "outputs": [
    {
     "name": "stdout",
     "output_type": "stream",
     "text": [
      "3.141592653589793\n"
     ]
    }
   ],
   "source": [
    "import math\n",
    "print(math.pi)"
   ]
  },
  {
   "cell_type": "code",
   "execution_count": 24,
   "id": "2f98d77e",
   "metadata": {},
   "outputs": [
    {
     "name": "stdout",
     "output_type": "stream",
     "text": [
      "2709.5\n"
     ]
    }
   ],
   "source": [
    "import statistics\n",
    "x=[149,9823,737,129]\n",
    "print(statistics.mean(x))"
   ]
  }
 ],
 "metadata": {
  "kernelspec": {
   "display_name": "Python 3 (ipykernel)",
   "language": "python",
   "name": "python3"
  },
  "language_info": {
   "codemirror_mode": {
    "name": "ipython",
    "version": 3
   },
   "file_extension": ".py",
   "mimetype": "text/x-python",
   "name": "python",
   "nbconvert_exporter": "python",
   "pygments_lexer": "ipython3",
   "version": "3.9.7"
  }
 },
 "nbformat": 4,
 "nbformat_minor": 5
}
